{
 "cells": [
  {
   "cell_type": "markdown",
   "id": "2c5b1c4d",
   "metadata": {},
   "source": [
    "# Hourly Electricity Consumption Dataset\n",
    "\n",
    "## Overview\n",
    "\n",
    "The Hourly Electricity Consumption dataset is a collection of time series data representing electricity consumption. It is primarily used for analyzing and forecasting electricity usage patterns on an hourly basis.\n",
    "\n",
    "## Data Description\n",
    "\n",
    "### Features\n",
    "\n",
    "- **Series ID**: An identifier for each time series (e.g., T1, T2, T3, ..., T321).\n",
    "- **Timestamp**: The dataset includes timestamps that mark the beginning of each hourly interval.\n",
    "- **Electricity Consumption**: For each timestamp, there is a corresponding value that represents the electricity consumption in kilowatt-hours (kWh).\n",
    "\n",
    "> Forecast length: 336 hours \n",
    "\n",
    "### Data Frequency\n",
    "\n",
    "- **Hourly**: The data is recorded at hourly intervals, providing a detailed view of electricity usage throughout each day.\n",
    "\n",
    "### Time Period\n",
    "\n",
    "- **Historical Span**: The dataset covers a specific historical period, capturing hourly electricity consumption over several months or years, depending on the dataset version.\n",
    "\n",
    "### Usage\n",
    "\n",
    "The dataset can be utilized for:\n",
    "\n",
    "- **Time Series Analysis**: Understanding trends, seasonality, and anomalies in electricity consumption.\n",
    "- **Forecasting**: Predicting future electricity usage to optimize grid operations and energy production.\n",
    "- **Energy Management**: Identifying consumption patterns to implement energy-saving measures and load balancing.\n",
    "\n",
    "## Dataset Structure\n",
    "\n",
    "### Example Data\n",
    "\n",
    "| Series ID | Timestamp           | Electricity Consumption (kWh) |\n",
    "|-----------|---------------------|-------------------------------|\n",
    "| T1        | 2020-01-01 00:00:00 | 1500                          |\n",
    "| T1        | 2020-01-01 01:00:00 | 1480                          |\n",
    "| T1        | 2020-01-01 02:00:00 | 1475                          |\n",
    "| ...       | ...                 | ...                           |\n",
    "| T2        | 2020-01-01 00:00:00 | 1600                          |\n",
    "| T2        | 2020-01-01 01:00:00 | 1580                          |\n",
    "| T2        | 2020-01-01 02:00:00 | 1575                          |\n",
    "| ...       | ...                 | ...                           |\n",
    "\n",
    "### Fields\n",
    "\n",
    "1. **Series ID**\n",
    "   - Type: String\n",
    "   - Description: The identifier for each time series (e.g., T1, T2, T3, ..., T321).\n",
    "2. **Timestamp**\n",
    "   - Type: DateTime\n",
    "   - Description: The specific date and hour of the electricity consumption measurement.\n",
    "3. **Electricity Consumption**\n",
    "   - Type: Float\n",
    "   - Description: The amount of electricity consumed during the hour, measured in kilowatt-hours (kWh).\n",
    "\n",
    "## Applications\n",
    "\n",
    "### Energy Forecasting\n",
    "\n",
    "- **Short-term Forecasting**: Predicting electricity consumption in the next few hours to a few days.\n",
    "- **Long-term Forecasting**: Estimating electricity usage patterns for weeks, months, or even years ahead.\n",
    "\n",
    "### Demand Response\n",
    "\n",
    "- **Load Shifting**: Identifying opportunities to shift electricity usage to off-peak hours.\n",
    "- **Peak Load Management**: Understanding and managing peak consumption periods to avoid grid overload.\n",
    "\n",
    "### Anomaly Detection\n",
    "\n",
    "- **Detecting Spikes**: Identifying sudden increases in electricity consumption that may indicate issues or unusual activity.\n",
    "- **Usage Patterns**: Finding irregularities in daily or seasonal usage patterns.\n",
    "\n",
    "### Energy Efficiency\n",
    "\n",
    "- **Consumption Trends**: Analyzing long-term trends to implement energy-saving strategies.\n",
    "- **Operational Efficiency**: Optimizing the performance of electrical equipment and systems based on usage data.\n",
    "\n",
    "## Conclusion\n",
    "\n",
    "The Hourly Electricity Consumption dataset is a valuable resource for energy analysts, researchers, and utility companies. It provides granular data that can be used to improve energy efficiency, optimize grid operations, and develop predictive models for electricity usage. The detailed hourly recordings allow for comprehensive analysis and robust forecasting capabilities.\n"
   ]
  },
  {
   "cell_type": "code",
   "execution_count": 1,
   "id": "c907d6cd",
   "metadata": {},
   "outputs": [],
   "source": [
    "import numpy as np\n",
    "import pandas as pd\n",
    "import os\n",
    "import matplotlib.pyplot as plt\n",
    "from pathlib import Path\n",
    "%matplotlib inline"
   ]
  },
  {
   "cell_type": "code",
   "execution_count": 2,
   "id": "ba1611c0",
   "metadata": {},
   "outputs": [
    {
     "name": "stdout",
     "output_type": "stream",
     "text": [
      "Requirement already satisfied: gluonts in e:\\readytensor\\rt_datasets_longterm_forecasting\\.venv\\lib\\site-packages (0.15.1)\n",
      "Requirement already satisfied: numpy~=1.16 in e:\\readytensor\\rt_datasets_longterm_forecasting\\.venv\\lib\\site-packages (from gluonts) (1.26.4)\n",
      "Requirement already satisfied: pandas<3,>=1.0 in e:\\readytensor\\rt_datasets_longterm_forecasting\\.venv\\lib\\site-packages (from gluonts) (1.5.3)\n",
      "Requirement already satisfied: pydantic<3,>=1.7 in e:\\readytensor\\rt_datasets_longterm_forecasting\\.venv\\lib\\site-packages (from gluonts) (2.7.4)\n",
      "Requirement already satisfied: tqdm~=4.23 in e:\\readytensor\\rt_datasets_longterm_forecasting\\.venv\\lib\\site-packages (from gluonts) (4.66.4)\n",
      "Requirement already satisfied: toolz~=0.10 in e:\\readytensor\\rt_datasets_longterm_forecasting\\.venv\\lib\\site-packages (from gluonts) (0.12.1)\n",
      "Requirement already satisfied: typing-extensions~=4.0 in e:\\readytensor\\rt_datasets_longterm_forecasting\\.venv\\lib\\site-packages (from gluonts) (4.12.2)\n",
      "Requirement already satisfied: python-dateutil>=2.8.1 in e:\\readytensor\\rt_datasets_longterm_forecasting\\.venv\\lib\\site-packages (from pandas<3,>=1.0->gluonts) (2.9.0.post0)\n",
      "Requirement already satisfied: pytz>=2020.1 in e:\\readytensor\\rt_datasets_longterm_forecasting\\.venv\\lib\\site-packages (from pandas<3,>=1.0->gluonts) (2024.1)\n",
      "Requirement already satisfied: annotated-types>=0.4.0 in e:\\readytensor\\rt_datasets_longterm_forecasting\\.venv\\lib\\site-packages (from pydantic<3,>=1.7->gluonts) (0.7.0)\n",
      "Requirement already satisfied: pydantic-core==2.18.4 in e:\\readytensor\\rt_datasets_longterm_forecasting\\.venv\\lib\\site-packages (from pydantic<3,>=1.7->gluonts) (2.18.4)\n",
      "Requirement already satisfied: colorama in e:\\readytensor\\rt_datasets_longterm_forecasting\\.venv\\lib\\site-packages (from tqdm~=4.23->gluonts) (0.4.6)\n",
      "Requirement already satisfied: six>=1.5 in e:\\readytensor\\rt_datasets_longterm_forecasting\\.venv\\lib\\site-packages (from python-dateutil>=2.8.1->pandas<3,>=1.0->gluonts) (1.16.0)\n",
      "Note: you may need to restart the kernel to use updated packages.\n"
     ]
    }
   ],
   "source": [
    "%pip install gluonts"
   ]
  },
  {
   "cell_type": "code",
   "execution_count": 3,
   "id": "84f9a32e",
   "metadata": {},
   "outputs": [
    {
     "name": "stderr",
     "output_type": "stream",
     "text": [
      "e:\\ReadyTensor\\rt_datasets_longterm_forecasting\\.venv\\Lib\\site-packages\\gluonts\\json.py:102: UserWarning: Using `json`-module for json-handling. Consider installing one of `orjson`, `ujson` to speed up serialization and deserialization.\n",
      "  warnings.warn(\n"
     ]
    }
   ],
   "source": [
    "from gluonts.dataset.repository import get_dataset, dataset_names"
   ]
  },
  {
   "cell_type": "code",
   "execution_count": 4,
   "id": "2763aeda",
   "metadata": {},
   "outputs": [
    {
     "name": "stdout",
     "output_type": "stream",
     "text": [
      "Available datasets: ['constant', 'exchange_rate', 'solar-energy', 'electricity', 'traffic', 'exchange_rate_nips', 'electricity_nips', 'traffic_nips', 'solar_nips', 'wiki2000_nips', 'wiki-rolling_nips', 'taxi_30min', 'kaggle_web_traffic_with_missing', 'kaggle_web_traffic_without_missing', 'kaggle_web_traffic_weekly', 'm1_yearly', 'm1_quarterly', 'm1_monthly', 'nn5_daily_with_missing', 'nn5_daily_without_missing', 'nn5_weekly', 'tourism_monthly', 'tourism_quarterly', 'tourism_yearly', 'cif_2016', 'london_smart_meters_without_missing', 'wind_farms_without_missing', 'car_parts_without_missing', 'dominick', 'fred_md', 'pedestrian_counts', 'hospital', 'covid_deaths', 'kdd_cup_2018_without_missing', 'weather', 'm3_monthly', 'm3_quarterly', 'm3_yearly', 'm3_other', 'm4_hourly', 'm4_daily', 'm4_weekly', 'm4_monthly', 'm4_quarterly', 'm4_yearly', 'm5', 'uber_tlc_daily', 'uber_tlc_hourly', 'airpassengers', 'australian_electricity_demand', 'electricity_hourly', 'electricity_weekly', 'rideshare_without_missing', 'saugeenday', 'solar_10_minutes', 'solar_weekly', 'sunspot_without_missing', 'temperature_rain_without_missing', 'vehicle_trips_without_missing', 'ercot', 'ett_small_15min', 'ett_small_1h']\n"
     ]
    }
   ],
   "source": [
    "print(f\"Available datasets: {dataset_names}\")"
   ]
  },
  {
   "cell_type": "code",
   "execution_count": 5,
   "id": "497ab6f5",
   "metadata": {},
   "outputs": [],
   "source": [
    "gluonts_dataset_name = \"electricity_hourly\""
   ]
  },
  {
   "cell_type": "code",
   "execution_count": 6,
   "id": "8056856a",
   "metadata": {},
   "outputs": [],
   "source": [
    "dataset_name = \"electricity_forecast_len_336\""
   ]
  },
  {
   "cell_type": "code",
   "execution_count": 7,
   "id": "e5b36356",
   "metadata": {},
   "outputs": [],
   "source": [
    "dataset_path = Path(f'./../../raw/{dataset_name}/')\n",
    "output_dir = f'./../../processed/{dataset_name}/'\n",
    "os.makedirs(output_dir, exist_ok=True)\n",
    "outp_fname = os.path.join(output_dir, f'{dataset_name}.csv')\n",
    "outp_fig_fname = os.path.join(output_dir, f'{dataset_name}.png')"
   ]
  },
  {
   "cell_type": "markdown",
   "id": "2b6eb5fa",
   "metadata": {},
   "source": [
    "# Read Data"
   ]
  },
  {
   "cell_type": "code",
   "execution_count": 8,
   "id": "4706cef2",
   "metadata": {},
   "outputs": [
    {
     "name": "stderr",
     "output_type": "stream",
     "text": [
      "Download electricity_hourly_dataset.zip:: 0.00B [00:00, ?B/s]"
     ]
    },
    {
     "name": "stderr",
     "output_type": "stream",
     "text": [
      "Download electricity_hourly_dataset.zip:: 11.3MB [00:03, 3.10MB/s]\n",
      "creating json files: 100%|██████████| 321/321 [00:00<00:00, 55481.58it/s]\n"
     ]
    }
   ],
   "source": [
    "data = get_dataset(gluonts_dataset_name, regenerate=True,path=dataset_path)"
   ]
  },
  {
   "cell_type": "code",
   "execution_count": 9,
   "id": "6566c4a0",
   "metadata": {},
   "outputs": [
    {
     "data": {
      "text/plain": [
       "'{\"freq\": \"H\", \"target\": null, \"feat_static_cat\": [{\"name\": \"feat_static_cat_0\", \"cardinality\": \"321\"}], \"feat_static_real\": [], \"feat_dynamic_real\": [], \"feat_dynamic_cat\": [], \"prediction_length\": 48}'"
      ]
     },
     "execution_count": 9,
     "metadata": {},
     "output_type": "execute_result"
    }
   ],
   "source": [
    "data.metadata.json()"
   ]
  },
  {
   "cell_type": "code",
   "execution_count": 10,
   "id": "7bc41431",
   "metadata": {},
   "outputs": [
    {
     "name": "stdout",
     "output_type": "stream",
     "text": [
      "data shape :  (321, 4)\n",
      "(26304,)\n",
      "['T1' 'T2' 'T3' 'T4' 'T5' 'T6' 'T7' 'T8' 'T9' 'T10' 'T11' 'T12' 'T13'\n",
      " 'T14' 'T15' 'T16' 'T17' 'T18' 'T19' 'T20' 'T21' 'T22' 'T23' 'T24' 'T25'\n",
      " 'T26' 'T27' 'T28' 'T29' 'T30' 'T31' 'T32' 'T33' 'T34' 'T35' 'T36' 'T37'\n",
      " 'T38' 'T39' 'T40' 'T41' 'T42' 'T43' 'T44' 'T45' 'T46' 'T47' 'T48' 'T49'\n",
      " 'T50' 'T51' 'T52' 'T53' 'T54' 'T55' 'T56' 'T57' 'T58' 'T59' 'T60' 'T61'\n",
      " 'T62' 'T63' 'T64' 'T65' 'T66' 'T67' 'T68' 'T69' 'T70' 'T71' 'T72' 'T73'\n",
      " 'T74' 'T75' 'T76' 'T77' 'T78' 'T79' 'T80' 'T81' 'T82' 'T83' 'T84' 'T85'\n",
      " 'T86' 'T87' 'T88' 'T89' 'T90' 'T91' 'T92' 'T93' 'T94' 'T95' 'T96' 'T97'\n",
      " 'T98' 'T99' 'T100' 'T101' 'T102' 'T103' 'T104' 'T105' 'T106' 'T107'\n",
      " 'T108' 'T109' 'T110' 'T111' 'T112' 'T113' 'T114' 'T115' 'T116' 'T117'\n",
      " 'T118' 'T119' 'T120' 'T121' 'T122' 'T123' 'T124' 'T125' 'T126' 'T127'\n",
      " 'T128' 'T129' 'T130' 'T131' 'T132' 'T133' 'T134' 'T135' 'T136' 'T137'\n",
      " 'T138' 'T139' 'T140' 'T141' 'T142' 'T143' 'T144' 'T145' 'T146' 'T147'\n",
      " 'T148' 'T149' 'T150' 'T151' 'T152' 'T153' 'T154' 'T155' 'T156' 'T157'\n",
      " 'T158' 'T159' 'T160' 'T161' 'T162' 'T163' 'T164' 'T165' 'T166' 'T167'\n",
      " 'T168' 'T169' 'T170' 'T171' 'T172' 'T173' 'T174' 'T175' 'T176' 'T177'\n",
      " 'T178' 'T179' 'T180' 'T181' 'T182' 'T183' 'T184' 'T185' 'T186' 'T187'\n",
      " 'T188' 'T189' 'T190' 'T191' 'T192' 'T193' 'T194' 'T195' 'T196' 'T197'\n",
      " 'T198' 'T199' 'T200' 'T201' 'T202' 'T203' 'T204' 'T205' 'T206' 'T207'\n",
      " 'T208' 'T209' 'T210' 'T211' 'T212' 'T213' 'T214' 'T215' 'T216' 'T217'\n",
      " 'T218' 'T219' 'T220' 'T221' 'T222' 'T223' 'T224' 'T225' 'T226' 'T227'\n",
      " 'T228' 'T229' 'T230' 'T231' 'T232' 'T233' 'T234' 'T235' 'T236' 'T237'\n",
      " 'T238' 'T239' 'T240' 'T241' 'T242' 'T243' 'T244' 'T245' 'T246' 'T247'\n",
      " 'T248' 'T249' 'T250' 'T251' 'T252' 'T253' 'T254' 'T255' 'T256' 'T257'\n",
      " 'T258' 'T259' 'T260' 'T261' 'T262' 'T263' 'T264' 'T265' 'T266' 'T267'\n",
      " 'T268' 'T269' 'T270' 'T271' 'T272' 'T273' 'T274' 'T275' 'T276' 'T277'\n",
      " 'T278' 'T279' 'T280' 'T281' 'T282' 'T283' 'T284' 'T285' 'T286' 'T287'\n",
      " 'T288' 'T289' 'T290' 'T291' 'T292' 'T293' 'T294' 'T295' 'T296' 'T297'\n",
      " 'T298' 'T299' 'T300' 'T301' 'T302' 'T303' 'T304' 'T305' 'T306' 'T307'\n",
      " 'T308' 'T309' 'T310' 'T311' 'T312' 'T313' 'T314' 'T315' 'T316' 'T317'\n",
      " 'T318' 'T319' 'T320' 'T321']\n"
     ]
    },
    {
     "data": {
      "text/html": [
       "<div>\n",
       "<style scoped>\n",
       "    .dataframe tbody tr th:only-of-type {\n",
       "        vertical-align: middle;\n",
       "    }\n",
       "\n",
       "    .dataframe tbody tr th {\n",
       "        vertical-align: top;\n",
       "    }\n",
       "\n",
       "    .dataframe thead th {\n",
       "        text-align: right;\n",
       "    }\n",
       "</style>\n",
       "<table border=\"1\" class=\"dataframe\">\n",
       "  <thead>\n",
       "    <tr style=\"text-align: right;\">\n",
       "      <th></th>\n",
       "      <th>target</th>\n",
       "      <th>start</th>\n",
       "      <th>item_id</th>\n",
       "      <th>feat_static_cat</th>\n",
       "    </tr>\n",
       "  </thead>\n",
       "  <tbody>\n",
       "    <tr>\n",
       "      <th>0</th>\n",
       "      <td>[14.0, 18.0, 21.0, 20.0, 22.0, 20.0, 20.0, 20....</td>\n",
       "      <td>2012-01-01 00:00</td>\n",
       "      <td>T1</td>\n",
       "      <td>[0]</td>\n",
       "    </tr>\n",
       "    <tr>\n",
       "      <th>1</th>\n",
       "      <td>[69.0, 92.0, 96.0, 92.0, 91.0, 92.0, 91.0, 92....</td>\n",
       "      <td>2012-01-01 00:00</td>\n",
       "      <td>T2</td>\n",
       "      <td>[1]</td>\n",
       "    </tr>\n",
       "    <tr>\n",
       "      <th>2</th>\n",
       "      <td>[234.0, 312.0, 312.0, 312.0, 312.0, 187.0, 138...</td>\n",
       "      <td>2012-01-01 00:00</td>\n",
       "      <td>T3</td>\n",
       "      <td>[2]</td>\n",
       "    </tr>\n",
       "    <tr>\n",
       "      <th>3</th>\n",
       "      <td>[415.0, 556.0, 560.0, 443.0, 346.0, 340.0, 376...</td>\n",
       "      <td>2012-01-01 00:00</td>\n",
       "      <td>T4</td>\n",
       "      <td>[3]</td>\n",
       "    </tr>\n",
       "    <tr>\n",
       "      <th>4</th>\n",
       "      <td>[215.0, 292.0, 272.0, 213.0, 190.0, 178.0, 199...</td>\n",
       "      <td>2012-01-01 00:00</td>\n",
       "      <td>T5</td>\n",
       "      <td>[4]</td>\n",
       "    </tr>\n",
       "  </tbody>\n",
       "</table>\n",
       "</div>"
      ],
      "text/plain": [
       "                                              target             start  \\\n",
       "0  [14.0, 18.0, 21.0, 20.0, 22.0, 20.0, 20.0, 20....  2012-01-01 00:00   \n",
       "1  [69.0, 92.0, 96.0, 92.0, 91.0, 92.0, 91.0, 92....  2012-01-01 00:00   \n",
       "2  [234.0, 312.0, 312.0, 312.0, 312.0, 187.0, 138...  2012-01-01 00:00   \n",
       "3  [415.0, 556.0, 560.0, 443.0, 346.0, 340.0, 376...  2012-01-01 00:00   \n",
       "4  [215.0, 292.0, 272.0, 213.0, 190.0, 178.0, 199...  2012-01-01 00:00   \n",
       "\n",
       "  item_id feat_static_cat  \n",
       "0      T1             [0]  \n",
       "1      T2             [1]  \n",
       "2      T3             [2]  \n",
       "3      T4             [3]  \n",
       "4      T5             [4]  "
      ]
     },
     "execution_count": 10,
     "metadata": {},
     "output_type": "execute_result"
    }
   ],
   "source": [
    "df_gluonts = pd.DataFrame(data.test)\n",
    "print(\"data shape : \",df_gluonts.shape)\n",
    "print(df_gluonts.iloc[0]['target'].shape)\n",
    "print(df_gluonts['item_id'].unique())\n",
    "df_gluonts.head()"
   ]
  },
  {
   "cell_type": "code",
   "execution_count": 11,
   "id": "09dbd891",
   "metadata": {},
   "outputs": [
    {
     "name": "stdout",
     "output_type": "stream",
     "text": [
      "data shape :  (321, 4)\n",
      "(26256,)\n",
      "['T1' 'T2' 'T3' 'T4' 'T5' 'T6' 'T7' 'T8' 'T9' 'T10' 'T11' 'T12' 'T13'\n",
      " 'T14' 'T15' 'T16' 'T17' 'T18' 'T19' 'T20' 'T21' 'T22' 'T23' 'T24' 'T25'\n",
      " 'T26' 'T27' 'T28' 'T29' 'T30' 'T31' 'T32' 'T33' 'T34' 'T35' 'T36' 'T37'\n",
      " 'T38' 'T39' 'T40' 'T41' 'T42' 'T43' 'T44' 'T45' 'T46' 'T47' 'T48' 'T49'\n",
      " 'T50' 'T51' 'T52' 'T53' 'T54' 'T55' 'T56' 'T57' 'T58' 'T59' 'T60' 'T61'\n",
      " 'T62' 'T63' 'T64' 'T65' 'T66' 'T67' 'T68' 'T69' 'T70' 'T71' 'T72' 'T73'\n",
      " 'T74' 'T75' 'T76' 'T77' 'T78' 'T79' 'T80' 'T81' 'T82' 'T83' 'T84' 'T85'\n",
      " 'T86' 'T87' 'T88' 'T89' 'T90' 'T91' 'T92' 'T93' 'T94' 'T95' 'T96' 'T97'\n",
      " 'T98' 'T99' 'T100' 'T101' 'T102' 'T103' 'T104' 'T105' 'T106' 'T107'\n",
      " 'T108' 'T109' 'T110' 'T111' 'T112' 'T113' 'T114' 'T115' 'T116' 'T117'\n",
      " 'T118' 'T119' 'T120' 'T121' 'T122' 'T123' 'T124' 'T125' 'T126' 'T127'\n",
      " 'T128' 'T129' 'T130' 'T131' 'T132' 'T133' 'T134' 'T135' 'T136' 'T137'\n",
      " 'T138' 'T139' 'T140' 'T141' 'T142' 'T143' 'T144' 'T145' 'T146' 'T147'\n",
      " 'T148' 'T149' 'T150' 'T151' 'T152' 'T153' 'T154' 'T155' 'T156' 'T157'\n",
      " 'T158' 'T159' 'T160' 'T161' 'T162' 'T163' 'T164' 'T165' 'T166' 'T167'\n",
      " 'T168' 'T169' 'T170' 'T171' 'T172' 'T173' 'T174' 'T175' 'T176' 'T177'\n",
      " 'T178' 'T179' 'T180' 'T181' 'T182' 'T183' 'T184' 'T185' 'T186' 'T187'\n",
      " 'T188' 'T189' 'T190' 'T191' 'T192' 'T193' 'T194' 'T195' 'T196' 'T197'\n",
      " 'T198' 'T199' 'T200' 'T201' 'T202' 'T203' 'T204' 'T205' 'T206' 'T207'\n",
      " 'T208' 'T209' 'T210' 'T211' 'T212' 'T213' 'T214' 'T215' 'T216' 'T217'\n",
      " 'T218' 'T219' 'T220' 'T221' 'T222' 'T223' 'T224' 'T225' 'T226' 'T227'\n",
      " 'T228' 'T229' 'T230' 'T231' 'T232' 'T233' 'T234' 'T235' 'T236' 'T237'\n",
      " 'T238' 'T239' 'T240' 'T241' 'T242' 'T243' 'T244' 'T245' 'T246' 'T247'\n",
      " 'T248' 'T249' 'T250' 'T251' 'T252' 'T253' 'T254' 'T255' 'T256' 'T257'\n",
      " 'T258' 'T259' 'T260' 'T261' 'T262' 'T263' 'T264' 'T265' 'T266' 'T267'\n",
      " 'T268' 'T269' 'T270' 'T271' 'T272' 'T273' 'T274' 'T275' 'T276' 'T277'\n",
      " 'T278' 'T279' 'T280' 'T281' 'T282' 'T283' 'T284' 'T285' 'T286' 'T287'\n",
      " 'T288' 'T289' 'T290' 'T291' 'T292' 'T293' 'T294' 'T295' 'T296' 'T297'\n",
      " 'T298' 'T299' 'T300' 'T301' 'T302' 'T303' 'T304' 'T305' 'T306' 'T307'\n",
      " 'T308' 'T309' 'T310' 'T311' 'T312' 'T313' 'T314' 'T315' 'T316' 'T317'\n",
      " 'T318' 'T319' 'T320' 'T321']\n",
      "Are both datasets the same ??  True\n"
     ]
    },
    {
     "data": {
      "text/html": [
       "<div>\n",
       "<style scoped>\n",
       "    .dataframe tbody tr th:only-of-type {\n",
       "        vertical-align: middle;\n",
       "    }\n",
       "\n",
       "    .dataframe tbody tr th {\n",
       "        vertical-align: top;\n",
       "    }\n",
       "\n",
       "    .dataframe thead th {\n",
       "        text-align: right;\n",
       "    }\n",
       "</style>\n",
       "<table border=\"1\" class=\"dataframe\">\n",
       "  <thead>\n",
       "    <tr style=\"text-align: right;\">\n",
       "      <th></th>\n",
       "      <th>target</th>\n",
       "      <th>start</th>\n",
       "      <th>item_id</th>\n",
       "      <th>feat_static_cat</th>\n",
       "    </tr>\n",
       "  </thead>\n",
       "  <tbody>\n",
       "    <tr>\n",
       "      <th>0</th>\n",
       "      <td>[14.0, 18.0, 21.0, 20.0, 22.0, 20.0, 20.0, 20....</td>\n",
       "      <td>2012-01-01 00:00</td>\n",
       "      <td>T1</td>\n",
       "      <td>[0]</td>\n",
       "    </tr>\n",
       "    <tr>\n",
       "      <th>1</th>\n",
       "      <td>[69.0, 92.0, 96.0, 92.0, 91.0, 92.0, 91.0, 92....</td>\n",
       "      <td>2012-01-01 00:00</td>\n",
       "      <td>T2</td>\n",
       "      <td>[1]</td>\n",
       "    </tr>\n",
       "    <tr>\n",
       "      <th>2</th>\n",
       "      <td>[234.0, 312.0, 312.0, 312.0, 312.0, 187.0, 138...</td>\n",
       "      <td>2012-01-01 00:00</td>\n",
       "      <td>T3</td>\n",
       "      <td>[2]</td>\n",
       "    </tr>\n",
       "    <tr>\n",
       "      <th>3</th>\n",
       "      <td>[415.0, 556.0, 560.0, 443.0, 346.0, 340.0, 376...</td>\n",
       "      <td>2012-01-01 00:00</td>\n",
       "      <td>T4</td>\n",
       "      <td>[3]</td>\n",
       "    </tr>\n",
       "    <tr>\n",
       "      <th>4</th>\n",
       "      <td>[215.0, 292.0, 272.0, 213.0, 190.0, 178.0, 199...</td>\n",
       "      <td>2012-01-01 00:00</td>\n",
       "      <td>T5</td>\n",
       "      <td>[4]</td>\n",
       "    </tr>\n",
       "  </tbody>\n",
       "</table>\n",
       "</div>"
      ],
      "text/plain": [
       "                                              target             start  \\\n",
       "0  [14.0, 18.0, 21.0, 20.0, 22.0, 20.0, 20.0, 20....  2012-01-01 00:00   \n",
       "1  [69.0, 92.0, 96.0, 92.0, 91.0, 92.0, 91.0, 92....  2012-01-01 00:00   \n",
       "2  [234.0, 312.0, 312.0, 312.0, 312.0, 187.0, 138...  2012-01-01 00:00   \n",
       "3  [415.0, 556.0, 560.0, 443.0, 346.0, 340.0, 376...  2012-01-01 00:00   \n",
       "4  [215.0, 292.0, 272.0, 213.0, 190.0, 178.0, 199...  2012-01-01 00:00   \n",
       "\n",
       "  item_id feat_static_cat  \n",
       "0      T1             [0]  \n",
       "1      T2             [1]  \n",
       "2      T3             [2]  \n",
       "3      T4             [3]  \n",
       "4      T5             [4]  "
      ]
     },
     "execution_count": 11,
     "metadata": {},
     "output_type": "execute_result"
    }
   ],
   "source": [
    "df_train = pd.DataFrame(data.train)\n",
    "print(\"data shape : \",df_train.shape)\n",
    "print(df_train.iloc[0]['target'].shape)\n",
    "print(df_train['item_id'].unique())\n",
    "print(\"Are both datasets the same ?? \",df_train.equals(df_gluonts))\n",
    "df_train.head()\n"
   ]
  },
  {
   "cell_type": "markdown",
   "id": "1a0a85fd",
   "metadata": {},
   "source": [
    "## Extracting first county data from the dataset"
   ]
  },
  {
   "cell_type": "code",
   "execution_count": 12,
   "id": "14ff0bb0",
   "metadata": {},
   "outputs": [
    {
     "data": {
      "text/html": [
       "<div>\n",
       "<style scoped>\n",
       "    .dataframe tbody tr th:only-of-type {\n",
       "        vertical-align: middle;\n",
       "    }\n",
       "\n",
       "    .dataframe tbody tr th {\n",
       "        vertical-align: top;\n",
       "    }\n",
       "\n",
       "    .dataframe thead th {\n",
       "        text-align: right;\n",
       "    }\n",
       "</style>\n",
       "<table border=\"1\" class=\"dataframe\">\n",
       "  <thead>\n",
       "    <tr style=\"text-align: right;\">\n",
       "      <th></th>\n",
       "      <th>series_id</th>\n",
       "      <th>timestamp</th>\n",
       "      <th>consumption</th>\n",
       "    </tr>\n",
       "  </thead>\n",
       "  <tbody>\n",
       "    <tr>\n",
       "      <th>0</th>\n",
       "      <td>T1</td>\n",
       "      <td>2012-01-01 00:00:00</td>\n",
       "      <td>14.0</td>\n",
       "    </tr>\n",
       "    <tr>\n",
       "      <th>1</th>\n",
       "      <td>T1</td>\n",
       "      <td>2012-01-01 01:00:00</td>\n",
       "      <td>18.0</td>\n",
       "    </tr>\n",
       "    <tr>\n",
       "      <th>2</th>\n",
       "      <td>T1</td>\n",
       "      <td>2012-01-01 02:00:00</td>\n",
       "      <td>21.0</td>\n",
       "    </tr>\n",
       "    <tr>\n",
       "      <th>3</th>\n",
       "      <td>T1</td>\n",
       "      <td>2012-01-01 03:00:00</td>\n",
       "      <td>20.0</td>\n",
       "    </tr>\n",
       "    <tr>\n",
       "      <th>4</th>\n",
       "      <td>T1</td>\n",
       "      <td>2012-01-01 04:00:00</td>\n",
       "      <td>22.0</td>\n",
       "    </tr>\n",
       "    <tr>\n",
       "      <th>...</th>\n",
       "      <td>...</td>\n",
       "      <td>...</td>\n",
       "      <td>...</td>\n",
       "    </tr>\n",
       "    <tr>\n",
       "      <th>8443579</th>\n",
       "      <td>T321</td>\n",
       "      <td>2014-12-31 19:00:00</td>\n",
       "      <td>2773.0</td>\n",
       "    </tr>\n",
       "    <tr>\n",
       "      <th>8443580</th>\n",
       "      <td>T321</td>\n",
       "      <td>2014-12-31 20:00:00</td>\n",
       "      <td>2755.0</td>\n",
       "    </tr>\n",
       "    <tr>\n",
       "      <th>8443581</th>\n",
       "      <td>T321</td>\n",
       "      <td>2014-12-31 21:00:00</td>\n",
       "      <td>2650.0</td>\n",
       "    </tr>\n",
       "    <tr>\n",
       "      <th>8443582</th>\n",
       "      <td>T321</td>\n",
       "      <td>2014-12-31 22:00:00</td>\n",
       "      <td>2719.0</td>\n",
       "    </tr>\n",
       "    <tr>\n",
       "      <th>8443583</th>\n",
       "      <td>T321</td>\n",
       "      <td>2014-12-31 23:00:00</td>\n",
       "      <td>2640.0</td>\n",
       "    </tr>\n",
       "  </tbody>\n",
       "</table>\n",
       "<p>8443584 rows × 3 columns</p>\n",
       "</div>"
      ],
      "text/plain": [
       "        series_id           timestamp  consumption\n",
       "0              T1 2012-01-01 00:00:00         14.0\n",
       "1              T1 2012-01-01 01:00:00         18.0\n",
       "2              T1 2012-01-01 02:00:00         21.0\n",
       "3              T1 2012-01-01 03:00:00         20.0\n",
       "4              T1 2012-01-01 04:00:00         22.0\n",
       "...           ...                 ...          ...\n",
       "8443579      T321 2014-12-31 19:00:00       2773.0\n",
       "8443580      T321 2014-12-31 20:00:00       2755.0\n",
       "8443581      T321 2014-12-31 21:00:00       2650.0\n",
       "8443582      T321 2014-12-31 22:00:00       2719.0\n",
       "8443583      T321 2014-12-31 23:00:00       2640.0\n",
       "\n",
       "[8443584 rows x 3 columns]"
      ]
     },
     "execution_count": 12,
     "metadata": {},
     "output_type": "execute_result"
    }
   ],
   "source": [
    "from datetime import timedelta\n",
    "\n",
    "df_gluonts['start'] = df_gluonts['start'].dt.to_timestamp()\n",
    "\n",
    "# Initialize an empty DataFrame for the result\n",
    "timeseries_df = pd.DataFrame()\n",
    "\n",
    "# Process each item\n",
    "for idx, row in df_gluonts.iterrows():\n",
    "    start_time = row['start']\n",
    "    item_id = row['item_id']\n",
    "    values = row['target']\n",
    "    \n",
    "    # Create a DataFrame for the current series\n",
    "    temp_df = pd.DataFrame({\n",
    "        'series_id': item_id,\n",
    "        'timestamp': pd.date_range(start=start_time, periods=len(values), freq='H'),\n",
    "        'consumption': values\n",
    "    })\n",
    "    \n",
    "    # Append to the result DataFrame\n",
    "    timeseries_df = pd.concat([timeseries_df, temp_df], ignore_index=True)\n",
    "\n",
    "timeseries_df"
   ]
  },
  {
   "cell_type": "markdown",
   "id": "6f989bd8",
   "metadata": {},
   "source": [
    "# Identify columns to use for the dataset"
   ]
  },
  {
   "cell_type": "code",
   "execution_count": 13,
   "id": "b67e68de",
   "metadata": {},
   "outputs": [],
   "source": [
    "series_col = \"series_id\"\n",
    "epoch_col = ''\n",
    "time_col = 'timestamp'\n",
    "value_col = 'consumption'\n",
    "exog_cols=[]"
   ]
  },
  {
   "cell_type": "markdown",
   "id": "5e9cfa83",
   "metadata": {},
   "source": [
    "# Visualize"
   ]
  },
  {
   "cell_type": "code",
   "execution_count": 14,
   "id": "da36587a",
   "metadata": {},
   "outputs": [
    {
     "data": {
      "image/png": "[encoded data removed]",
      "text/plain": [
       "<Figure size 1200x600 with 1 Axes>"
      ]
     },
     "metadata": {},
     "output_type": "display_data"
    }
   ],
   "source": [
    "plt.style.use('seaborn-v0_8-darkgrid')\n",
    "\n",
    "series_ids_to_plot = ['T1', 'T100', 'T200', 'T300']\n",
    "\n",
    "df_to_plot = timeseries_df[timeseries_df['series_id'].isin(series_ids_to_plot)]\n",
    "\n",
    "plt.figure(figsize=(12, 6))\n",
    "\n",
    "for series_id in series_ids_to_plot:\n",
    "    series_data = df_to_plot[df_to_plot['series_id'] == series_id]\n",
    "    plt.plot(series_data['timestamp'], series_data['consumption'], label=series_id)\n",
    "plt.title(f\"Time series data\")\n",
    "plt.grid(True)\n",
    "plt.legend()\n",
    "plt.show()\n"
   ]
  },
  {
   "cell_type": "markdown",
   "id": "3434d5f6",
   "metadata": {},
   "source": [
    "# Save Data"
   ]
  },
  {
   "cell_type": "code",
   "execution_count": 15,
   "id": "b637304e",
   "metadata": {},
   "outputs": [],
   "source": [
    "timeseries_df.sort_values(by=[series_col, time_col], inplace=True)\n",
    "timeseries_df.to_csv(outp_fname, index=False)"
   ]
  },
  {
   "cell_type": "code",
   "execution_count": 16,
   "id": "b1077b18",
   "metadata": {},
   "outputs": [
    {
     "data": {
      "text/plain": [
       "(8443584, 3)"
      ]
     },
     "execution_count": 16,
     "metadata": {},
     "output_type": "execute_result"
    }
   ],
   "source": [
    "timeseries_df.shape"
   ]
  },
  {
   "cell_type": "code",
   "execution_count": null,
   "id": "4900cd5c",
   "metadata": {},
   "outputs": [],
   "source": []
  }
 ],
 "metadata": {
  "kernelspec": {
   "display_name": "Python 3 (ipykernel)",
   "language": "python",
   "name": "python3"
  },
  "language_info": {
   "codemirror_mode": {
    "name": "ipython",
    "version": 3
   },
   "file_extension": ".py",
   "mimetype": "text/x-python",
   "name": "python",
   "nbconvert_exporter": "python",
   "pygments_lexer": "ipython3",
   "version": "3.11.4"
  }
 },
 "nbformat": 4,
 "nbformat_minor": 5
}
